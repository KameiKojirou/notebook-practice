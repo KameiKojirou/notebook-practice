{
 "cells": [
  {
   "cell_type": "code",
   "execution_count": null,
   "id": "43123031",
   "metadata": {},
   "outputs": [],
   "source": [
    "import * as pl from \"npm:nodejs-polars@0.18.0\";\n",
    "\n",
    "// import objects.csv locally\n",
    "\n",
    "const response = pl.readCSV(\"objects.csv\", {\n",
    "});\n",
    "\n",
    "// dataframe\n",
    "let objects = response as pl.DataFrame;\n",
    "\n",
    "objects = objects.select(\n",
    "  pl.col(\"objectid\"),\n",
    "  pl.col(\"title\"),\n",
    "  pl.col(\"beginyear\").as(\"year\").cast(pl.Int64),\n",
    "  pl.col(\"medium\"),\n",
    "  pl.col(\"visualbrowserclassification\").as(\"type\"),\n",
    ").filter(pl.col(\"year\").gt(1900).and(pl.col(\"year\").lt(2023)) && pl.col(\"title\").str.contains(\"a\"));\n",
    "\n",
    "\n",
    "\n",
    "// show dataframe data in a table\n",
    "console.table(objects.toRecords());\n",
    "\n",
    "// save dataframe to csv\n",
    "objects.writeCSV(\"objects2.csv\");"
   ]
  },
  {
   "cell_type": "code",
   "execution_count": 29,
   "id": "f2d5b694",
   "metadata": {},
   "outputs": [
    {
     "name": "stdout",
     "output_type": "stream",
     "text": [
      "┌───────┬────┬──────────────┬────────┬───────┐\n",
      "│ (idx) │ id │ name         │ type1  │ type2 │\n",
      "├───────┼────┼──────────────┼────────┼───────┤\n",
      "│     0 │  4 │ \"charmander\" │ \"fire\" │ null  │\n",
      "│     1 │  5 │ \"charmeleon\" │ \"fire\" │ null  │\n",
      "│     2 │  6 │ \"charizard\"  │ \"fire\" │ null  │\n",
      "│     3 │ 37 │ \"vulpix\"     │ \"fire\" │ null  │\n",
      "│     4 │ 38 │ \"ninetales\"  │ \"fire\" │ null  │\n",
      "│     5 │ 57 │ \"growlithe\"  │ \"fire\" │ null  │\n",
      "│     6 │ 58 │ \"arcanine\"   │ \"fire\" │ null  │\n",
      "│     7 │ 76 │ \"ponyta\"     │ \"fire\" │ null  │\n",
      "│     8 │ 77 │ \"rapidash\"   │ \"fire\" │ null  │\n",
      "└───────┴────┴──────────────┴────────┴───────┘\n"
     ]
    }
   ],
   "source": [
    "import * as pl from \"npm:nodejs-polars@0.18.0\";\n",
    "\n",
    "const response = pl.readCSV(\"pokemon.csv\", {\n",
    "});\n",
    "\n",
    "// dataframe\n",
    "let pokemon = response as pl.DataFrame;\n",
    "\n",
    "// show dataframe data in a table\n",
    "pokemon = pokemon.select(\n",
    "    pl.col(\"id\").cast(pl.Int64),\n",
    "    pl.col(\"name\"),\n",
    "    pl.col(\"type1\"),\n",
    "    pl.col(\"type2\"),\n",
    ").filter(pl.col(\"id\").lt(100).and(pl.col(\"type1\").str.contains(\"fire\")));\n",
    "console.table(pokemon.toRecords());\n",
    "\n",
    "pokemon.writeCSV(\"pokemon_fire_under_100.csv\");"
   ]
  }
 ],
 "metadata": {
  "kernelspec": {
   "display_name": "Deno",
   "language": "typescript",
   "name": "deno"
  },
  "language_info": {
   "codemirror_mode": "typescript",
   "file_extension": ".ts",
   "mimetype": "text/x.typescript",
   "name": "typescript",
   "nbconvert_exporter": "script",
   "pygments_lexer": "typescript",
   "version": "5.8.3"
  }
 },
 "nbformat": 4,
 "nbformat_minor": 5
}
