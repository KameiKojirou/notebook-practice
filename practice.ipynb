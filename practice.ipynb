{
 "cells": [
  {
   "cell_type": "code",
   "execution_count": 356,
   "id": "43123031",
   "metadata": {},
   "outputs": [
    {
     "name": "stdout",
     "output_type": "stream",
     "text": [
      "┌───────┬──────────┬───────┬──────┬────────┬─────────┐\n",
      "│ (idx) │ objectid │ title │ year │ medium │ type    │\n",
      "├───────┼──────────┼───────┼──────┼────────┼─────────┤\n",
      "│     0 │        2 │ \"lay\" │ 2001 │ \"art\"  │ \"thing\" │\n",
      "└───────┴──────────┴───────┴──────┴────────┴─────────┘\n"
     ]
    }
   ],
   "source": [
    "import * as pl from \"npm:nodejs-polars@0.18.0\";\n",
    "\n",
    "// import objects.csv locally\n",
    "\n",
    "const response = pl.readCSV(\"objects.csv\", {\n",
    "  quoteChar: '\"',\n",
    "  hasHeader: true,\n",
    "});\n",
    "\n",
    "// dataframe\n",
    "let objects = response as pl.DataFrame;\n",
    "\n",
    "objects = objects.select(\n",
    "  pl.col(\"objectid\"),\n",
    "  pl.col(\"title\"),\n",
    "  pl.col(\"beginyear\").as(\"year\").cast(pl.Int64),\n",
    "  pl.col(\"medium\"),\n",
    "  pl.col(\"visualbrowserclassification\").as(\"type\"),\n",
    ").filter(pl.col(\"year\").gt(1900).and(pl.col(\"year\").lt(2023)) && pl.col(\"title\").str.contains(\"a\"));\n",
    "\n",
    "\n",
    "\n",
    "// show dataframe data in a table\n",
    "console.table(objects.toRecords());\n",
    "\n",
    "// save dataframe to csv\n",
    "objects.writeCSV(\"objects2.csv\");"
   ]
  }
 ],
 "metadata": {
  "kernelspec": {
   "display_name": "Deno",
   "language": "typescript",
   "name": "deno"
  },
  "language_info": {
   "codemirror_mode": "typescript",
   "file_extension": ".ts",
   "mimetype": "text/x.typescript",
   "name": "typescript",
   "nbconvert_exporter": "script",
   "pygments_lexer": "typescript",
   "version": "5.8.3"
  }
 },
 "nbformat": 4,
 "nbformat_minor": 5
}
